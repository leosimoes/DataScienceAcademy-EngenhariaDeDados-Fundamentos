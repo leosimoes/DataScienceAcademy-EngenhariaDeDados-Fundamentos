{
 "cells": [
  {
   "cell_type": "markdown",
   "metadata": {},
   "source": [
    "# Demonstração Prática 4 - Criação de Pipeline de Extração, Limpeza, Transformação e Enriquecimento de Dados\n",
    "\n",
    "\n",
    "![Logo de capa](Demonstracao-Pratica-4-Logo.png)\n",
    "\n",
    "Autor: Leonardo Simões"
   ]
  },
  {
   "cell_type": "markdown",
   "metadata": {},
   "source": [
    "---\n",
    "## Sumário\n",
    "- [Introdução](#introduction)\n",
    "- [Desenvolvimento](#development)\n",
    "- [Referências](#references)"
   ]
  },
  {
   "cell_type": "markdown",
   "metadata": {},
   "source": [
    "---\n",
    "<a id='introduction'></a>\n",
    "## Introdução\n",
    "\n",
    "Atividade de extrair dados de um arquivo CSV para carregar em um banco de dados e aplicar tarefas de limpeza, transformação e enriquecimento dos dados."
   ]
  },
  {
   "cell_type": "markdown",
   "metadata": {},
   "source": [
    "---\n",
    "<a id='development'></a>\n",
    "## Desenvolvimento"
   ]
  },
  {
   "cell_type": "code",
   "execution_count": 1,
   "metadata": {},
   "outputs": [
    {
     "name": "stdout",
     "output_type": "stream",
     "text": [
      "Versão do Python: 3.11.2\n"
     ]
    }
   ],
   "source": [
    "# Verificação da versão do Python\n",
    "from platform import python_version\n",
    "print('Versão do Python:', python_version())"
   ]
  },
  {
   "cell_type": "code",
   "execution_count": 2,
   "metadata": {},
   "outputs": [],
   "source": [
    "# Imports das bibliotecas usadas\n",
    "import pandas as pd\n",
    "from pandas.api.types import is_float_dtype\n",
    "import sqlalchemy\n",
    "from sqlalchemy import create_engine"
   ]
  },
  {
   "cell_type": "code",
   "execution_count": 3,
   "metadata": {},
   "outputs": [
    {
     "name": "stdout",
     "output_type": "stream",
     "text": [
      "Pandas versão 1.5.3\n",
      "SQL Alchemy versão 2.0.10\n"
     ]
    }
   ],
   "source": [
    "# Versões das bibliotecas usadas\n",
    "print('Pandas versão ' + pd.__version__)\n",
    "print('SQL Alchemy versão ' + sqlalchemy.__version__)"
   ]
  },
  {
   "cell_type": "code",
   "execution_count": 4,
   "outputs": [
    {
     "data": {
      "text/plain": "  produto  quantidade_produzida_kgs  valor_venda_medio  receita_total\n0   arroz                        10                 12          25000\n1  feijão                         5                 17          35000\n2   milho                        18                 21          16500\n3  batata                        13                 14          12800\n4  tomate                        12                 15          10780",
      "text/html": "<div>\n<style scoped>\n    .dataframe tbody tr th:only-of-type {\n        vertical-align: middle;\n    }\n\n    .dataframe tbody tr th {\n        vertical-align: top;\n    }\n\n    .dataframe thead th {\n        text-align: right;\n    }\n</style>\n<table border=\"1\" class=\"dataframe\">\n  <thead>\n    <tr style=\"text-align: right;\">\n      <th></th>\n      <th>produto</th>\n      <th>quantidade_produzida_kgs</th>\n      <th>valor_venda_medio</th>\n      <th>receita_total</th>\n    </tr>\n  </thead>\n  <tbody>\n    <tr>\n      <th>0</th>\n      <td>arroz</td>\n      <td>10</td>\n      <td>12</td>\n      <td>25000</td>\n    </tr>\n    <tr>\n      <th>1</th>\n      <td>feijão</td>\n      <td>5</td>\n      <td>17</td>\n      <td>35000</td>\n    </tr>\n    <tr>\n      <th>2</th>\n      <td>milho</td>\n      <td>18</td>\n      <td>21</td>\n      <td>16500</td>\n    </tr>\n    <tr>\n      <th>3</th>\n      <td>batata</td>\n      <td>13</td>\n      <td>14</td>\n      <td>12800</td>\n    </tr>\n    <tr>\n      <th>4</th>\n      <td>tomate</td>\n      <td>12</td>\n      <td>15</td>\n      <td>10780</td>\n    </tr>\n  </tbody>\n</table>\n</div>"
     },
     "execution_count": 4,
     "metadata": {},
     "output_type": "execute_result"
    }
   ],
   "source": [
    "# Cria um dataframe com os dados do arquivo csv considerando '.' como separador de milhar\n",
    "df = pd.read_csv('producao_alimentos.csv',  thousands='.')\n",
    "\n",
    "# Exibe as primeiras 5 linhas do dataframe\n",
    "df.head()"
   ],
   "metadata": {
    "collapsed": false
   }
  },
  {
   "cell_type": "code",
   "execution_count": 5,
   "outputs": [],
   "source": [
    "# Remove produtos com quantidade menor ou igual a 10\n",
    "df = df[df['quantidade_produzida_kgs'] > 10]"
   ],
   "metadata": {
    "collapsed": false
   }
  },
  {
   "cell_type": "code",
   "execution_count": 6,
   "outputs": [],
   "source": [
    "# Verifica se todas os valores de 'quantidade_produzida_kgs' são maiores do que 10\n",
    "assert df['quantidade_produzida_kgs'].min() > 10"
   ],
   "metadata": {
    "collapsed": false
   }
  },
  {
   "cell_type": "code",
   "execution_count": 7,
   "outputs": [],
   "source": [
    "# Converte 'valor_venda_medio' para float\n",
    "df['valor_venda_medio'] = df['valor_venda_medio'].astype(float)"
   ],
   "metadata": {
    "collapsed": false
   }
  },
  {
   "cell_type": "code",
   "execution_count": 8,
   "outputs": [],
   "source": [
    "# Verifica se 'valor_venda_medio' é float\n",
    "assert is_float_dtype(df['valor_venda_medio'])"
   ],
   "metadata": {
    "collapsed": false
   }
  },
  {
   "cell_type": "code",
   "execution_count": 9,
   "outputs": [],
   "source": [
    "# Define 'valor_venda_medio' com precisão de 2 casas decimais\n",
    "df['valor_venda_medio'] = df['valor_venda_medio'].round(2)"
   ],
   "metadata": {
    "collapsed": false
   }
  },
  {
   "cell_type": "code",
   "execution_count": 10,
   "outputs": [],
   "source": [
    "# Cria coluna para margem de lucro com precisão de 2 casas decimais\n",
    "df['margem_lucro'] = ((df['receita_total']/df['quantidade_produzida_kgs']) - df['valor_venda_medio']).round(2)\n",
    "#df['margem_lucro'] = df['margem_lucro'].round(2)"
   ],
   "metadata": {
    "collapsed": false
   }
  },
  {
   "cell_type": "code",
   "execution_count": 11,
   "outputs": [],
   "source": [
    "# Verifica se a coluna 'margem_lucro' foi criada\n",
    "assert 'margem_lucro' in df.columns.values"
   ],
   "metadata": {
    "collapsed": false
   }
  },
  {
   "cell_type": "code",
   "execution_count": 12,
   "outputs": [
    {
     "data": {
      "text/plain": "   produto  quantidade_produzida_kgs  valor_venda_medio  receita_total  \\\n2    milho                        18               21.0          16500   \n3   batata                        13               14.0          12800   \n4   tomate                        12               15.0          10780   \n5   alface                        14               13.0           4600   \n6  cenoura                        21               14.0           4100   \n\n   margem_lucro  \n2        895.67  \n3        970.62  \n4        883.33  \n5        315.57  \n6        181.24  ",
      "text/html": "<div>\n<style scoped>\n    .dataframe tbody tr th:only-of-type {\n        vertical-align: middle;\n    }\n\n    .dataframe tbody tr th {\n        vertical-align: top;\n    }\n\n    .dataframe thead th {\n        text-align: right;\n    }\n</style>\n<table border=\"1\" class=\"dataframe\">\n  <thead>\n    <tr style=\"text-align: right;\">\n      <th></th>\n      <th>produto</th>\n      <th>quantidade_produzida_kgs</th>\n      <th>valor_venda_medio</th>\n      <th>receita_total</th>\n      <th>margem_lucro</th>\n    </tr>\n  </thead>\n  <tbody>\n    <tr>\n      <th>2</th>\n      <td>milho</td>\n      <td>18</td>\n      <td>21.0</td>\n      <td>16500</td>\n      <td>895.67</td>\n    </tr>\n    <tr>\n      <th>3</th>\n      <td>batata</td>\n      <td>13</td>\n      <td>14.0</td>\n      <td>12800</td>\n      <td>970.62</td>\n    </tr>\n    <tr>\n      <th>4</th>\n      <td>tomate</td>\n      <td>12</td>\n      <td>15.0</td>\n      <td>10780</td>\n      <td>883.33</td>\n    </tr>\n    <tr>\n      <th>5</th>\n      <td>alface</td>\n      <td>14</td>\n      <td>13.0</td>\n      <td>4600</td>\n      <td>315.57</td>\n    </tr>\n    <tr>\n      <th>6</th>\n      <td>cenoura</td>\n      <td>21</td>\n      <td>14.0</td>\n      <td>4100</td>\n      <td>181.24</td>\n    </tr>\n  </tbody>\n</table>\n</div>"
     },
     "execution_count": 12,
     "metadata": {},
     "output_type": "execute_result"
    }
   ],
   "source": [
    "# Exibe as primeiras 5 linhas do dataframe\n",
    "df.head()"
   ],
   "metadata": {
    "collapsed": false
   }
  },
  {
   "cell_type": "code",
   "execution_count": 13,
   "outputs": [
    {
     "data": {
      "text/plain": "count     11.000000\nmean     417.290000\nstd      354.845495\nmin       54.000000\n25%      122.715000\n50%      315.570000\n75%      727.330000\nmax      970.620000\nName: margem_lucro, dtype: float64"
     },
     "execution_count": 13,
     "metadata": {},
     "output_type": "execute_result"
    }
   ],
   "source": [
    "# Descreve estatísticamente a margem de lucro\n",
    "df.margem_lucro.describe()"
   ],
   "metadata": {
    "collapsed": false
   }
  },
  {
   "cell_type": "code",
   "execution_count": 14,
   "outputs": [],
   "source": [
    "# Cria dicionário com nomes das colunas\n",
    "nomes_colunas_dict = {'quantidade_produzida_kgs': 'quantidade', 'valor_venda_medio': 'preco_medio'}"
   ],
   "metadata": {
    "collapsed": false
   }
  },
  {
   "cell_type": "code",
   "execution_count": 15,
   "outputs": [],
   "source": [
    "# Renomeia algumas colunas do dataframe\n",
    "df = df.rename(columns=nomes_colunas_dict)"
   ],
   "metadata": {
    "collapsed": false
   }
  },
  {
   "cell_type": "code",
   "execution_count": 16,
   "outputs": [],
   "source": [
    "# Verifica os nomes das colunas\n",
    "assert ['produto', 'quantidade', 'preco_medio', 'receita_total', 'margem_lucro'] in df.columns.values"
   ],
   "metadata": {
    "collapsed": false
   }
  },
  {
   "cell_type": "code",
   "execution_count": 17,
   "outputs": [],
   "source": [
    "# Cria uma conexão com o banco de dados SQLite\n",
    "engine = create_engine('sqlite:///baseDeDados.db')"
   ],
   "metadata": {
    "collapsed": false
   }
  },
  {
   "cell_type": "code",
   "execution_count": 18,
   "outputs": [
    {
     "data": {
      "text/plain": "11"
     },
     "execution_count": 18,
     "metadata": {},
     "output_type": "execute_result"
    }
   ],
   "source": [
    "# Salva o dataframe em uma tabela no banco de dados SQLite\n",
    "df.to_sql('produtos', engine, if_exists='replace', index=False)"
   ],
   "metadata": {
    "collapsed": false
   }
  },
  {
   "cell_type": "markdown",
   "metadata": {},
   "source": [
    "---\n",
    "<a id='references'></a>\n",
    "## Referências\n",
    "\n",
    "Data Science Academy - Formação Analista de Dados:\n",
    "https://www.datascienceacademy.com.br/bundle/formacao-analista-de-dados\n",
    "\n",
    "Data Science Academy - Análise de Dados com Linguagem Python:\n",
    "https://www.datascienceacademy.com.br/course/analise-de-dados-com-linguagem-python-dsa"
   ]
  }
 ],
 "metadata": {
  "kernelspec": {
   "display_name": "Python 3 (ipykernel)",
   "language": "python",
   "name": "python3"
  },
  "language_info": {
   "codemirror_mode": {
    "name": "ipython",
    "version": 3
   },
   "file_extension": ".py",
   "mimetype": "text/x-python",
   "name": "python",
   "nbconvert_exporter": "python",
   "pygments_lexer": "ipython3",
   "version": "3.11.2"
  }
 },
 "nbformat": 4,
 "nbformat_minor": 1
}
